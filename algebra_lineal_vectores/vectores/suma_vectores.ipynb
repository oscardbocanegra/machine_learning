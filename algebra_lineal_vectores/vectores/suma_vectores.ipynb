{
 "cells": [
  {
   "cell_type": "markdown",
   "id": "0b38e75c",
   "metadata": {},
   "source": [
    "# Suma de Vectores\n",
    "\n",
    "La suma de vectores es una operación fundamental en álgebra lineal. Consiste en sumar los componentes correspondientes de dos o más vectores para obtener un nuevo vector.\n",
    "\n",
    "Por ejemplo, si tenemos dos vectores:\n",
    "\n",
    "$$\\vec{a} = [a_1, a_2, a_3]$$\n",
    "$$\\vec{b} = [b_1, b_2, b_3]$$\n",
    "\n",
    "La suma se define como:\n",
    "\n",
    "$$\\vec{a} + \\vec{b} = [a_1 + b_1,\\ a_2 + b_2,\\ a_3 + b_3]$$\n",
    "\n",
    "---\n",
    "\n",
    "## Ejemplo visual\n",
    "\n",
    "Imagina que los vectores representan colores RGB:\n",
    "\n",
    "- Rojo: $[255, 0, 0]$\n",
    "- Verde: $[0, 255, 0]$\n",
    "- Azul: $[0, 0, 255]$\n",
    "\n",
    "Sumar estos vectores nos da un nuevo color combinando sus componentes.\n",
    "\n",
    "---\n",
    "\n",
    "## Usando numpy\n",
    "\n",
    "Numpy es una librería de Python que facilita la manipulación y operación de vectores y matrices. Permite realizar la suma de vectores de manera eficiente y sencilla utilizando arreglos (arrays) y operaciones vectorizadas.\n",
    "\n",
    "---\n",
    "\n",
    "## Ejercicio\n",
    "\n",
    "Prueba sumar los siguientes vectores usando la función definida y con numpy:\n",
    "\n",
    "- $[1, 2, 3, 4, 5]$\n",
    "- $[-1, -2, -3, -4, 5]$\n",
    "\n",
    "¿Cuál es el resultado?"
   ]
  },
  {
   "cell_type": "markdown",
   "id": "ccb1917b",
   "metadata": {},
   "source": [
    "## Adicion entre vectores"
   ]
  },
  {
   "cell_type": "code",
   "execution_count": 13,
   "id": "d6aa68da",
   "metadata": {},
   "outputs": [],
   "source": [
    "rojo = [255, 0, 0]\n",
    "negro = [0, 0, 0]\n",
    "verde = [0, 255, 0]"
   ]
  },
  {
   "cell_type": "code",
   "execution_count": 2,
   "id": "c3dfd650",
   "metadata": {},
   "outputs": [],
   "source": [
    "# Suma de vectores sin librerias\n",
    "def suma_vectores(a, b):\n",
    "    return [i+j for i, j in zip(a,b)]\n"
   ]
  },
  {
   "cell_type": "code",
   "execution_count": 11,
   "id": "0000bf84",
   "metadata": {},
   "outputs": [
    {
     "data": {
      "text/plain": [
       "[255, 0, 0]"
      ]
     },
     "execution_count": 11,
     "metadata": {},
     "output_type": "execute_result"
    }
   ],
   "source": [
    "suma_vectores(rojo, negro)"
   ]
  },
  {
   "cell_type": "code",
   "execution_count": 14,
   "id": "570939df",
   "metadata": {},
   "outputs": [
    {
     "data": {
      "text/plain": [
       "[255, 255, 0]"
      ]
     },
     "execution_count": 14,
     "metadata": {},
     "output_type": "execute_result"
    }
   ],
   "source": [
    "suma_vectores(rojo, verde)"
   ]
  },
  {
   "cell_type": "markdown",
   "id": "c3100fcb",
   "metadata": {},
   "source": [
    "## Usando numpy"
   ]
  },
  {
   "cell_type": "code",
   "execution_count": 12,
   "id": "e93bc0d5",
   "metadata": {},
   "outputs": [],
   "source": [
    "import numpy as np"
   ]
  },
  {
   "cell_type": "code",
   "execution_count": 15,
   "id": "a8969deb",
   "metadata": {},
   "outputs": [],
   "source": [
    "rojo = np.array(rojo)\n",
    "negro = np.array(negro)\n",
    "verde = np.array(verde)"
   ]
  },
  {
   "cell_type": "code",
   "execution_count": 16,
   "id": "a3f51875",
   "metadata": {},
   "outputs": [
    {
     "data": {
      "text/plain": [
       "array([255,   0,   0])"
      ]
     },
     "execution_count": 16,
     "metadata": {},
     "output_type": "execute_result"
    }
   ],
   "source": [
    "rojo + negro"
   ]
  },
  {
   "cell_type": "code",
   "execution_count": 17,
   "id": "7ab916e1",
   "metadata": {},
   "outputs": [
    {
     "data": {
      "text/plain": [
       "array([255, 255,   0])"
      ]
     },
     "execution_count": 17,
     "metadata": {},
     "output_type": "execute_result"
    }
   ],
   "source": [
    "rojo + verde"
   ]
  },
  {
   "cell_type": "code",
   "execution_count": 21,
   "id": "b7410d03",
   "metadata": {},
   "outputs": [],
   "source": [
    "a = np.array([1, 2, 3, 4, 5])\n",
    "b = np.array([-1, -2, -3, -4, 5])"
   ]
  },
  {
   "cell_type": "code",
   "execution_count": 22,
   "id": "3794b038",
   "metadata": {},
   "outputs": [],
   "source": [
    "c = a+b"
   ]
  },
  {
   "cell_type": "code",
   "execution_count": 23,
   "id": "b9480167",
   "metadata": {},
   "outputs": [
    {
     "data": {
      "text/plain": [
       "array([ 0,  0,  0,  0, 10])"
      ]
     },
     "execution_count": 23,
     "metadata": {},
     "output_type": "execute_result"
    }
   ],
   "source": [
    "c"
   ]
  },
  {
   "cell_type": "code",
   "execution_count": 24,
   "id": "d5c95ae8",
   "metadata": {},
   "outputs": [
    {
     "data": {
      "text/plain": [
       "array([255, 255, 255])"
      ]
     },
     "execution_count": 24,
     "metadata": {},
     "output_type": "execute_result"
    }
   ],
   "source": [
    "a = np.array([0, 0, 255])\n",
    "c = rojo + verde + a\n",
    "c"
   ]
  },
  {
   "cell_type": "code",
   "execution_count": null,
   "id": "abc312ca",
   "metadata": {},
   "outputs": [],
   "source": []
  }
 ],
 "metadata": {
  "kernelspec": {
   "display_name": ".venv",
   "language": "python",
   "name": "python3"
  },
  "language_info": {
   "codemirror_mode": {
    "name": "ipython",
    "version": 3
   },
   "file_extension": ".py",
   "mimetype": "text/x-python",
   "name": "python",
   "nbconvert_exporter": "python",
   "pygments_lexer": "ipython3",
   "version": "3.13.3"
  }
 },
 "nbformat": 4,
 "nbformat_minor": 5
}
