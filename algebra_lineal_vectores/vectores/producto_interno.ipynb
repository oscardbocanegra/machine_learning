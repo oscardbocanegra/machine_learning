{
 "cells": [
  {
   "cell_type": "code",
   "execution_count": 1,
   "id": "91491b68",
   "metadata": {},
   "outputs": [],
   "source": [
    "import numpy as np"
   ]
  },
  {
   "cell_type": "code",
   "execution_count": 10,
   "id": "01dafc45",
   "metadata": {},
   "outputs": [],
   "source": [
    "a = np.array([1, 0, 0, 0])\n",
    "b = np.array([0, 0, 1, 0])"
   ]
  },
  {
   "cell_type": "code",
   "execution_count": 9,
   "id": "03f060ee",
   "metadata": {},
   "outputs": [
    {
     "data": {
      "text/plain": [
       "np.int64(5)"
      ]
     },
     "execution_count": 9,
     "metadata": {},
     "output_type": "execute_result"
    }
   ],
   "source": [
    "np.dot(a, b)  # producto interno"
   ]
  },
  {
   "cell_type": "code",
   "execution_count": 11,
   "id": "2bd9a132",
   "metadata": {},
   "outputs": [
    {
     "data": {
      "text/plain": [
       "np.int64(0)"
      ]
     },
     "execution_count": 11,
     "metadata": {},
     "output_type": "execute_result"
    }
   ],
   "source": [
    "a.T@b  # producto interno"
   ]
  },
  {
   "cell_type": "markdown",
   "id": "2e860221",
   "metadata": {},
   "source": [
    "## Evaluacion de polinomios"
   ]
  },
  {
   "cell_type": "code",
   "execution_count": 12,
   "id": "fabed5dc",
   "metadata": {},
   "outputs": [],
   "source": [
    "def p(x):\n",
    "    return np.array([1, 2])@np.array([1, x])"
   ]
  },
  {
   "cell_type": "code",
   "execution_count": 13,
   "id": "3c173438",
   "metadata": {},
   "outputs": [
    {
     "name": "stdout",
     "output_type": "stream",
     "text": [
      "p(0) =  1\n",
      "p(1) =  3\n",
      "p(2) =  5\n"
     ]
    }
   ],
   "source": [
    "print('p(0) = ', p(0))\n",
    "print('p(1) = ', p(1))\n",
    "print('p(2) = ', p(2))"
   ]
  },
  {
   "cell_type": "code",
   "execution_count": null,
   "id": "3475e775",
   "metadata": {},
   "outputs": [],
   "source": []
  },
  {
   "cell_type": "markdown",
   "id": "70799af9",
   "metadata": {},
   "source": [
    "### Importación de librerías\n",
    "En esta celda se importa la librería `numpy`, que es fundamental para trabajar con operaciones vectoriales y matriciales en Python.\n",
    "\n",
    "### Definición de vectores\n",
    "Aquí se definen dos vectores `a` y `b` como arreglos de numpy. Estos vectores serán utilizados para calcular el producto interno.\n",
    "\n",
    "### Producto interno con `np.dot`\n",
    "Se utiliza la función `np.dot` para calcular el producto interno (producto escalar) entre los vectores `a` y `b`.\n",
    "\n",
    "### Producto interno con notación de transpuesta y multiplicación\n",
    "Otra forma de calcular el producto interno es usando la notación de transpuesta (`a.T`) y el operador `@` para la multiplicación matricial.\n",
    "\n",
    "### Evaluación de polinomios\n",
    "En esta sección se define una función polinómica `p(x)` y se evalúa para diferentes valores de `x` usando el producto interno de dos arreglos.\n",
    "\n",
    "### Resultados de la evaluación del polinomio\n",
    "Se imprime el resultado de la función polinómica para los valores `x = 0`, `x = 1` y `x = 2`."
   ]
  }
 ],
 "metadata": {
  "kernelspec": {
   "display_name": ".venv",
   "language": "python",
   "name": "python3"
  },
  "language_info": {
   "codemirror_mode": {
    "name": "ipython",
    "version": 3
   },
   "file_extension": ".py",
   "mimetype": "text/x-python",
   "name": "python",
   "nbconvert_exporter": "python",
   "pygments_lexer": "ipython3",
   "version": "3.13.3"
  }
 },
 "nbformat": 4,
 "nbformat_minor": 5
}
