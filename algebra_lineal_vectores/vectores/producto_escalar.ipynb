{
 "cells": [
  {
   "cell_type": "code",
   "execution_count": 2,
   "id": "5f1a37c9",
   "metadata": {},
   "outputs": [],
   "source": [
    "import numpy as np"
   ]
  },
  {
   "cell_type": "code",
   "execution_count": 3,
   "id": "963bb590",
   "metadata": {},
   "outputs": [],
   "source": [
    "x = np.array([1, -1, 1])\n",
    "\n",
    "a = 3.1"
   ]
  },
  {
   "cell_type": "code",
   "execution_count": 4,
   "id": "5c392b3b",
   "metadata": {},
   "outputs": [
    {
     "name": "stdout",
     "output_type": "stream",
     "text": [
      "[ 3.1 -3.1  3.1]\n",
      "[ 3.1 -3.1  3.1]\n"
     ]
    }
   ],
   "source": [
    "# conmutative property\n",
    "print(a * x)\n",
    "print(x * a)"
   ]
  },
  {
   "cell_type": "code",
   "execution_count": 5,
   "id": "87f2dd3c",
   "metadata": {},
   "outputs": [],
   "source": [
    "b = -a"
   ]
  },
  {
   "cell_type": "code",
   "execution_count": 6,
   "id": "a838f1c8",
   "metadata": {},
   "outputs": [
    {
     "name": "stdout",
     "output_type": "stream",
     "text": [
      "[ 0. -0.  0.]\n",
      "[0. 0. 0.]\n"
     ]
    }
   ],
   "source": [
    "print((b+a)*x)\n",
    "print(b*x + a*x)"
   ]
  },
  {
   "cell_type": "code",
   "execution_count": null,
   "id": "87a5688c",
   "metadata": {},
   "outputs": [],
   "source": []
  },
  {
   "cell_type": "markdown",
   "id": "4350c071",
   "metadata": {},
   "source": [
    "# Soluciones a los ejercicios propuestos\n",
    "---\n",
    "**Problema 1.**  \n",
    "Los vectores unitarios estándar de $\\mathbb{R}^4$ son:\n",
    "- $[1, 0, 0, 0]$\n",
    "- $[0, 1, 0, 0]$\n",
    "- $[0, 0, 1, 0]$\n",
    "- $[0, 0, 0, 1]$\n",
    "---\n",
    "**Problema 2.**  \n",
    "Tres combinaciones lineales de vectores en $\\mathbb{R}^3$ para expresar el vector $[1, 1, 1]$ pueden ser:\n",
    "- $[1, 0, 0] + [0, 1, 0] + [0, 0, 1] = [1, 1, 1]$\n",
    "- $0.5 \\cdot [2, 0, 0] + 0.5 \\cdot [0, 2, 0] + [0, 0, 1] = [1, 1, 1]$\n",
    "- $[0.2, 0.3, 0.5] + [0.8, 0.7, 0.5] = [1, 1, 1]$\n",
    "---\n",
    "**Problema 3.**  \n",
    "Tres combinaciones afines con vectores de $\\mathbb{R}^3$ donde $\\beta_0 \\neq \\beta_1 \\neq \\beta_2$ y $\\beta_0 + \\beta_1 + \\beta_2 = 1$:\n",
    "- $\\beta_0 = 0.2$, $\\beta_1 = 0.3$, $\\beta_2 = 0.5$\n",
    "- $\\beta_0 = -1$, $\\beta_1 = 2$, $\\beta_2 = 0$\n",
    "- $\\beta_0 = 1.5$, $\\beta_1 = -0.2$, $\\beta_2 = -0.3$"
   ]
  },
  {
   "cell_type": "code",
   "execution_count": 7,
   "id": "1314e9c9",
   "metadata": {},
   "outputs": [
    {
     "name": "stdout",
     "output_type": "stream",
     "text": [
      "Vector unitario 1: [1 0 0 0]\n",
      "Vector unitario 2: [0 1 0 0]\n",
      "Vector unitario 3: [0 0 1 0]\n",
      "Vector unitario 4: [0 0 0 1]\n",
      "\n",
      "Combinación 1: [1 1 1]\n",
      "Combinación 2: [1. 1. 1.]\n",
      "Combinación 3: [1. 1. 1.]\n",
      "\n",
      "Combinaciones afines (suma 1, todos diferentes):\n",
      "Combinación 1: [0.2, 0.3, 0.5], suma = 1.0\n",
      "Combinación 2: [-1, 2, 0], suma = 1\n",
      "Combinación 3: [1.5, -0.2, -0.3], suma = 1.0\n"
     ]
    }
   ],
   "source": [
    "# Problema 1: Vectores unitarios estándar de R^4\n",
    "import numpy as np\n",
    "unitarios = [np.array([1,0,0,0]), np.array([0,1,0,0]), np.array([0,0,1,0]), np.array([0,0,0,1])]\n",
    "for i, v in enumerate(unitarios):\n",
    "    print(f\"Vector unitario {i+1}: {v}\")\n",
    "\n",
    "# Problema 2: Combinaciones lineales para [1,1,1]\n",
    "v1 = np.array([1,0,0])\n",
    "v2 = np.array([0,1,0])\n",
    "v3 = np.array([0,0,1])\n",
    "print(\"\\nCombinación 1:\", v1+v2+v3)\n",
    "print(\"Combinación 2:\", 0.5*np.array([2,0,0]) + 0.5*np.array([0,2,0]) + v3)\n",
    "print(\"Combinación 3:\", np.array([0.2,0.3,0.5]) + np.array([0.8,0.7,0.5]))\n",
    "\n",
    "# Problema 3: Combinaciones afines con suma 1 y todos diferentes\n",
    "betas = [\n",
    "    [0.2, 0.3, 0.5],\n",
    "    [-1, 2, 0],\n",
    "    [1.5, -0.2, -0.3]\n",
    "]\n",
    "print(\"\\nCombinaciones afines (suma 1, todos diferentes):\")\n",
    "for i, beta in enumerate(betas):\n",
    "    print(f\"Combinación {i+1}: {beta}, suma = {sum(beta)}\")"
   ]
  }
 ],
 "metadata": {
  "kernelspec": {
   "display_name": ".venv",
   "language": "python",
   "name": "python3"
  },
  "language_info": {
   "codemirror_mode": {
    "name": "ipython",
    "version": 3
   },
   "file_extension": ".py",
   "mimetype": "text/x-python",
   "name": "python",
   "nbconvert_exporter": "python",
   "pygments_lexer": "ipython3",
   "version": "3.13.3"
  }
 },
 "nbformat": 4,
 "nbformat_minor": 5
}
