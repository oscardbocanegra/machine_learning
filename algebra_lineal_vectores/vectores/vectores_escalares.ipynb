{
 "cells": [
  {
   "cell_type": "code",
   "execution_count": 1,
   "id": "c6431f0d",
   "metadata": {},
   "outputs": [],
   "source": [
    "rojo = [255, 0, 0]\n",
    "verde = [0, 255, 0]\n",
    "azul = [0, 0, 255]\n",
    "negro = [0, 0, 0]"
   ]
  },
  {
   "cell_type": "code",
   "execution_count": 4,
   "id": "76c4732b",
   "metadata": {},
   "outputs": [
    {
     "data": {
      "text/plain": [
       "3"
      ]
     },
     "execution_count": 4,
     "metadata": {},
     "output_type": "execute_result"
    }
   ],
   "source": [
    "# Ver la dimension de los vectores\n",
    "len(rojo)\n",
    "len(verde)\n",
    "len(azul)\n",
    "len(negro)"
   ]
  },
  {
   "cell_type": "code",
   "execution_count": 5,
   "id": "b78ef609",
   "metadata": {},
   "outputs": [
    {
     "data": {
      "text/plain": [
       "[255, 0, 0, 0, 255, 0]"
      ]
     },
     "execution_count": 5,
     "metadata": {},
     "output_type": "execute_result"
    }
   ],
   "source": [
    "# Usar el operador + con los vectores\n",
    "rojo_verde = rojo + verde\n",
    "rojo_verde"
   ]
  },
  {
   "cell_type": "code",
   "execution_count": 6,
   "id": "c0f90363",
   "metadata": {},
   "outputs": [
    {
     "data": {
      "text/plain": [
       "[255, 0, 0]"
      ]
     },
     "execution_count": 6,
     "metadata": {},
     "output_type": "execute_result"
    }
   ],
   "source": [
    "# Obtener los vectores rojo_verde\n",
    "rojo_verde[0:3]"
   ]
  },
  {
   "cell_type": "code",
   "execution_count": 8,
   "id": "7b0eac39",
   "metadata": {},
   "outputs": [
    {
     "data": {
      "text/plain": [
       "[0, 255, 0]"
      ]
     },
     "execution_count": 8,
     "metadata": {},
     "output_type": "execute_result"
    }
   ],
   "source": [
    "rojo_verde[3:6]"
   ]
  },
  {
   "cell_type": "code",
   "execution_count": null,
   "id": "8f8e61d7",
   "metadata": {},
   "outputs": [],
   "source": []
  }
 ],
 "metadata": {
  "kernelspec": {
   "display_name": ".venv",
   "language": "python",
   "name": "python3"
  },
  "language_info": {
   "codemirror_mode": {
    "name": "ipython",
    "version": 3
   },
   "file_extension": ".py",
   "mimetype": "text/x-python",
   "name": "python",
   "nbconvert_exporter": "python",
   "pygments_lexer": "ipython3",
   "version": "3.13.3"
  }
 },
 "nbformat": 4,
 "nbformat_minor": 5
}
