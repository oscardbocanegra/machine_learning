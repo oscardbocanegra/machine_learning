{
 "cells": [
  {
   "cell_type": "code",
   "execution_count": 1,
   "id": "998c997e",
   "metadata": {},
   "outputs": [],
   "source": [
    "import numpy as np"
   ]
  },
  {
   "cell_type": "markdown",
   "id": "a363e40f",
   "metadata": {},
   "source": [
    "## Funcion suma"
   ]
  },
  {
   "cell_type": "code",
   "execution_count": 2,
   "id": "71ba693c",
   "metadata": {},
   "outputs": [],
   "source": [
    "def f(x):\n",
    "    return np.sum(x)"
   ]
  },
  {
   "cell_type": "code",
   "execution_count": 6,
   "id": "81b5b384",
   "metadata": {},
   "outputs": [
    {
     "name": "stdout",
     "output_type": "stream",
     "text": [
      "f(0) =  0\n"
     ]
    }
   ],
   "source": [
    "print('f(0) = ', f( np.array([0, 0, 0, 0])))"
   ]
  },
  {
   "cell_type": "code",
   "execution_count": 7,
   "id": "df04fa99",
   "metadata": {},
   "outputs": [
    {
     "name": "stdout",
     "output_type": "stream",
     "text": [
      "f([1, 0, 0, 0]) =  1\n"
     ]
    }
   ],
   "source": [
    "print('f([1, 0, 0, 0]) = ', f( np.array([1, 0, 0, 0])))"
   ]
  },
  {
   "cell_type": "code",
   "execution_count": 8,
   "id": "67861d9d",
   "metadata": {},
   "outputs": [
    {
     "name": "stdout",
     "output_type": "stream",
     "text": [
      "f([1, 1, 1, 1]) =  4\n"
     ]
    }
   ],
   "source": [
    "print('f([1, 1, 1, 1]) = ', f( np.array([1, 1, 1, 1])))"
   ]
  },
  {
   "cell_type": "markdown",
   "id": "1c958d1c",
   "metadata": {},
   "source": [
    "## Proyeccion sobre x[0]"
   ]
  },
  {
   "cell_type": "code",
   "execution_count": 9,
   "id": "91fcd06d",
   "metadata": {},
   "outputs": [],
   "source": [
    "def g(x):\n",
    "    return x[0]"
   ]
  },
  {
   "cell_type": "code",
   "execution_count": null,
   "id": "d17f5a9b",
   "metadata": {},
   "outputs": [
    {
     "name": "stdout",
     "output_type": "stream",
     "text": [
      "g(0) =  0\n"
     ]
    }
   ],
   "source": [
    "print('g(0) = ', g( np.array([0, 0, 0])))"
   ]
  },
  {
   "cell_type": "code",
   "execution_count": null,
   "id": "77b87bd4",
   "metadata": {},
   "outputs": [
    {
     "name": "stdout",
     "output_type": "stream",
     "text": [
      "g(0) =  0\n"
     ]
    }
   ],
   "source": [
    "print('g([0, 0, 1]) = ', g( np.array([0, 0, 1])))"
   ]
  },
  {
   "cell_type": "code",
   "execution_count": 12,
   "id": "9d7cdd8e",
   "metadata": {},
   "outputs": [
    {
     "name": "stdout",
     "output_type": "stream",
     "text": [
      "g([1, 0, 4]) =  1\n"
     ]
    }
   ],
   "source": [
    "print('g([1, 0, 4]) = ', g( np.array([1, 0, 4])))"
   ]
  },
  {
   "cell_type": "markdown",
   "id": "a214520d",
   "metadata": {},
   "source": [
    "## Funcion producto interno"
   ]
  },
  {
   "cell_type": "code",
   "execution_count": null,
   "id": "340c78d9",
   "metadata": {},
   "outputs": [],
   "source": []
  }
 ],
 "metadata": {
  "kernelspec": {
   "display_name": ".venv",
   "language": "python",
   "name": "python3"
  },
  "language_info": {
   "codemirror_mode": {
    "name": "ipython",
    "version": 3
   },
   "file_extension": ".py",
   "mimetype": "text/x-python",
   "name": "python",
   "nbconvert_exporter": "python",
   "pygments_lexer": "ipython3",
   "version": "3.13.3"
  }
 },
 "nbformat": 4,
 "nbformat_minor": 5
}
