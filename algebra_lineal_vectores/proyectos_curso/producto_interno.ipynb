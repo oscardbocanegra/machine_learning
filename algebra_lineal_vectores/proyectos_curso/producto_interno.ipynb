{
 "cells": [
  {
   "cell_type": "markdown",
   "id": "6d1f21a8",
   "metadata": {},
   "source": [
    "# Producto Interno\n",
    "\n",
    "El *producto interno* (estándar) o simplemente *producto punto* de dos $n$-vectores $\\vec{a},\\vec{b}$ se define como el escalar:\n",
    "\n",
    "$$\n",
    "<\\vec{a},\\vec{b}> = \\vec{a} \\cdot \\vec{b} = a_{0}b_{0}+a_{1}b_{1}+\\cdots+a_{n-1}b_{n-1} = \\displaystyle\\sum_{i=0}^{n-1} a_{i}b_{i}\n",
    "$$\n",
    "\n",
    "Que es simplemente la suma del producto de sus entradas.\n",
    "\n",
    "Por ejemplo, si $\\vec{a}=(1,2,3)$ y $\\vec{b}=(4,5,6)$ entonces el producto punto será:\n",
    "\n",
    "$$\n",
    "\\vec{a}\\cdot\\vec{b} = (1,2,3)\\cdot (4,5,6) = 1\\cdot 4+2\\cdot 5 + 3\\cdot 6 = 4+10+18=32\n",
    "$$\n",
    "\n",
    "Hasta ahora trabajamos de forma indiferente con *vectores columna* y *vectores renglón*, a partir de este momento **el estándar serán los vectores columna** entonces simpre que hablemos de un vector, dígamos $\\vec{a}$ entonces estaremos hablando del vector columna:\n",
    "\n",
    "$$\n",
    "\\vec{a} = \\begin{bmatrix}a_{0}\\\\ a_{1}\\\\ \\vdots \\\\ a_{n-1}\\end{bmatrix}\n",
    "$$\n",
    "\n",
    "Esto también nos permite introducir una nueva operación: **la transposición**. Retomemos el vector $\\vec{a}$, denotaremos como $\\vec{a}^{T}$ al vector transpuesto de $\\vec{a}$:\n",
    "\n",
    "$$\n",
    "\\vec{a}^{T} = \\begin{bmatrix}a_{0}\\\\ a_{1}\\\\ \\vdots \\\\ a_{n-1}\\end{bmatrix}^{T} = [a_{0}\\; a_{1}\\; \\cdots \\; a_{n-1}]\n",
    "$$\n",
    "\n",
    "La operación de transposición nos permite cambiar de vectores columna a vectores renglón sin modificar al vector que se transponga. Notemos que es posible poder transponer un vector transpuesto_\n",
    "\n",
    "$$\n",
    "\\left(\\vec{a}^{T}\\right)^{T} = \\left(\\begin{bmatrix}a_{0}\\\\ a_{1}\\\\ \\vdots \\\\ a_{n-1}\\end{bmatrix}^{T}\\right)^{T} = [a_{0}\\; a_{1}\\; \\cdots \\; a_{n-1}]^{T} = \\begin{bmatrix}a_{0}\\\\ a_{1}\\\\ \\vdots \\\\ a_{n-1}\\end{bmatrix} = \\vec{a}\n",
    "$$\n",
    "\n",
    "Así pues, consideremos el ejemplo anterior de los vectores $\\vec{a}$ y $\\vec{b}$. Definimos la operación $\\vec{a}^{T}\\vec{b}$ como:\n",
    "\n",
    "$$\n",
    "\\vec{a}^{T}\\; \\vec{b} = [a_{0}\\; a_{1}\\; \\cdots \\; a_{n-1}]  \\begin{bmatrix}b_{0}\\\\ b_{1}\\\\ \\vdots \\\\ b_{n-1}\\end{bmatrix} = a_{0}b_{0} + a_{1}b_{1} + \\cdots + a_{n-1}b_{n-1} = \\displaystyle\\sum_{i=0}^{n-1} a_{i}b_{i}\n",
    "$$\n",
    "\n",
    "Lo cual coincide con la definición del producto interno. Así pues $<\\vec{a},\\vec{b}> = \\vec{a}\\cdot \\vec{b} = \\vec{a}^{T} \\;\\vec{b} = \\displaystyle\\sum_{i=0}^{n-1} a_{i}b_{i}$\n",
    "\n",
    "## Propiedades del producto interno\n",
    "\n",
    "Sean $\\vec{a},\\vec{b}$ dos $n$-vectores y $\\alpha$ un escalar. El producto interno entre $\\vec{a}$ y $\\vec{b}$ cumple las siguientes propiedades:\n",
    "\n",
    "* Conmutatividad: $\\vec{a}^{T}\\vec{b} = \\displaystyle\\sum_{i=0}^{n-1} a_{i}b_{i} = \\displaystyle\\sum_{i=0}^{n-1} b_{i}a_{i} = \\vec{b}^{T}\\vec{a}$\n",
    "\n",
    "* Asociatividad con multiplicación escalar: $\\left(\\alpha \\vec{a}\\right)^{T}\\vec{b} = \\alpha\\left(\\vec{a}^{T}\\vec{b}\\right)$\n",
    "\n",
    "* Distribución en la adición de vectores: $\\left(\\vec{a} + \\vec{b}\\right)^{T}\\vec{c} = \\vec{a}^{T}\\vec{c} + \\vec{b}^{T}\\vec{c}$\n",
    "\n"
   ]
  },
  {
   "cell_type": "markdown",
   "id": "c7e57bed",
   "metadata": {},
   "source": [
    "## *Problema 1: Analisis de sentimientos de tweets*. Vamos a crear una maquina que pueda decirnos que tan positivo, neutral o negativo son las series de respuestas de twitter.\n",
    "Las respuestas son:\n",
    " - Gran Colombiano y excelente en su area, su muerte es una enorme perdida y deberia ser luto nacional!!\n",
    " - Vaya señora que bueno que se asesora por alguien inteligente no por el ignorante Gatt.\n",
    " - Se me ocurre y sin ver todos los videos de Plazti que me informéis por dónde empiezo. Entiendo que os tendría que decir quién soy y que quiero, vamos conocerme para asesorarme bien. Un saludo\n",
    " - Soy docente universitario, estoy intentando preparar mis clases en modo platzi bien didáctico, (le llamo modo noticiero), descargue una plataforma gratuita de grabación y transmisión de vídeo, se llama Obs estudio!bueno la sigo remando con sus funciones pero sé que saldrá algo!"
   ]
  },
  {
   "cell_type": "code",
   "execution_count": 1,
   "id": "cc40083d",
   "metadata": {},
   "outputs": [],
   "source": [
    "a = \"Gran Colombiano y excelente en su area, su muerte es una enorme perdida y deberia ser luto nacional!!\"\n",
    "a = a.replace(\"!\", \"\").replace(\",\",\"\").split()"
   ]
  },
  {
   "cell_type": "code",
   "execution_count": 2,
   "id": "ba138439",
   "metadata": {},
   "outputs": [
    {
     "data": {
      "text/plain": [
       "['Gran',\n",
       " 'Colombiano',\n",
       " 'y',\n",
       " 'excelente',\n",
       " 'en',\n",
       " 'su',\n",
       " 'area',\n",
       " 'su',\n",
       " 'muerte',\n",
       " 'es',\n",
       " 'una',\n",
       " 'enorme',\n",
       " 'perdida',\n",
       " 'y',\n",
       " 'deberia',\n",
       " 'ser',\n",
       " 'luto',\n",
       " 'nacional']"
      ]
     },
     "execution_count": 2,
     "metadata": {},
     "output_type": "execute_result"
    }
   ],
   "source": [
    "a"
   ]
  },
  {
   "cell_type": "code",
   "execution_count": 3,
   "id": "8cdd75bd",
   "metadata": {},
   "outputs": [
    {
     "name": "stdout",
     "output_type": "stream",
     "text": [
      "La palabra 'muerte' está en la lista.\n"
     ]
    }
   ],
   "source": [
    "if 'muerte' in a:\n",
    "    print(\"La palabra 'muerte' está en la lista.\")"
   ]
  },
  {
   "cell_type": "code",
   "execution_count": 4,
   "id": "80520b2d",
   "metadata": {},
   "outputs": [
    {
     "data": {
      "text/html": [
       "<div>\n",
       "<style scoped>\n",
       "    .dataframe tbody tr th:only-of-type {\n",
       "        vertical-align: middle;\n",
       "    }\n",
       "\n",
       "    .dataframe tbody tr th {\n",
       "        vertical-align: top;\n",
       "    }\n",
       "\n",
       "    .dataframe thead th {\n",
       "        text-align: right;\n",
       "    }\n",
       "</style>\n",
       "<table border=\"1\" class=\"dataframe\">\n",
       "  <thead>\n",
       "    <tr style=\"text-align: right;\">\n",
       "      <th></th>\n",
       "      <th>Tweet</th>\n",
       "      <th>Calidad</th>\n",
       "      <th>P_positiva</th>\n",
       "      <th>P_neutra</th>\n",
       "      <th>P_negativa</th>\n",
       "    </tr>\n",
       "  </thead>\n",
       "  <tbody>\n",
       "    <tr>\n",
       "      <th>0</th>\n",
       "      <td>Gran mexicano y excelente en su área, su muert...</td>\n",
       "      <td>0.285714</td>\n",
       "      <td>0.500000</td>\n",
       "      <td>0.0</td>\n",
       "      <td>0.500000</td>\n",
       "    </tr>\n",
       "    <tr>\n",
       "      <th>1</th>\n",
       "      <td>Vaya señora que bueno que se asesora por algui...</td>\n",
       "      <td>0.214286</td>\n",
       "      <td>0.666667</td>\n",
       "      <td>0.0</td>\n",
       "      <td>0.333333</td>\n",
       "    </tr>\n",
       "    <tr>\n",
       "      <th>2</th>\n",
       "      <td>Se me ocurre y sin ver todos los videos de Pla...</td>\n",
       "      <td>0.071429</td>\n",
       "      <td>1.000000</td>\n",
       "      <td>0.0</td>\n",
       "      <td>0.000000</td>\n",
       "    </tr>\n",
       "    <tr>\n",
       "      <th>3</th>\n",
       "      <td>Soy docente universitario, estoy intentando pr...</td>\n",
       "      <td>0.142857</td>\n",
       "      <td>0.500000</td>\n",
       "      <td>0.5</td>\n",
       "      <td>0.000000</td>\n",
       "    </tr>\n",
       "  </tbody>\n",
       "</table>\n",
       "</div>"
      ],
      "text/plain": [
       "                                               Tweet   Calidad  P_positiva  \\\n",
       "0  Gran mexicano y excelente en su área, su muert...  0.285714    0.500000   \n",
       "1  Vaya señora que bueno que se asesora por algui...  0.214286    0.666667   \n",
       "2  Se me ocurre y sin ver todos los videos de Pla...  0.071429    1.000000   \n",
       "3  Soy docente universitario, estoy intentando pr...  0.142857    0.500000   \n",
       "\n",
       "   P_neutra  P_negativa  \n",
       "0       0.0    0.500000  \n",
       "1       0.0    0.333333  \n",
       "2       0.0    0.000000  \n",
       "3       0.5    0.000000  "
      ]
     },
     "execution_count": 4,
     "metadata": {},
     "output_type": "execute_result"
    }
   ],
   "source": [
    "import numpy as np\n",
    "import pandas as pd\n",
    "\n",
    "\n",
    "def feeling(Tweet):\n",
    "  tweet = Tweet.replace(\"!\",\"\").replace(\",\",\"\").replace(\".\",\"\").lower().split(\" \")\n",
    "\n",
    "  palabras =['muerte','pérdida','luto','excelente','gran','positivo','bueno','inteligente','ignorante','platzi','aprender','estudio','bien','queiro']\n",
    "\n",
    "  palabras_positivas =[\"excelente\",\"gran\",\"quiero\",\"positivo\",'bien','positivo','bueno','inteligente']\n",
    "  palabras_neutras = [\"pérdida\",'aprender','estudio','platzi']\n",
    "  palabras_negativas = [\"muerte\",\"luto\",'ignorante']\n",
    "\n",
    "  w = []\n",
    "  positivas = 0\n",
    "  neutras = 0\n",
    "  negativas = 0\n",
    "  \n",
    "\n",
    "  for i in palabras:\n",
    "    w.append(tweet.count(i))\n",
    "    if i in tweet and i in palabras_positivas:\n",
    "      positivas += 1\n",
    "    elif i in tweet and i in palabras_neutras:\n",
    "      neutras += 1\n",
    "    elif i in tweet and i in palabras_negativas:\n",
    "      negativas += 1\n",
    "\n",
    "  s = np.array([positivas,neutras,negativas])\n",
    "  w = np.array(w)\n",
    "\n",
    "  avg = (np.ones(w.size)/w.size).T.dot(w)\n",
    "  score = s/(s[0]+s[1]+s[2])\n",
    "  return Tweet,avg,score[0],score[1],score[2]\n",
    "\n",
    "tweet1 = \"Gran mexicano y excelente en su área, su muerte es una enorme perdida y debería ser luto nacional!!!\"\n",
    "\n",
    "tweet2 = \"Vaya señora que bueno que se asesora por alguien inteligente no por el ignorante del Gatt\"\n",
    "\n",
    "tweet3 = \"Se me ocurre y sin ver todos los videos de Plazti que me informéis por dónde empiezo. Entiendo que os tendría que decir quién soy y que quiero, vamos conocerme para asesorarme bien. Un saludo\"\n",
    "\n",
    "tweet4 = \"Soy docente universitario, estoy intentando preparar mis clases en modo platzi bien didáctico, (le llamo modo noticiero), descargue una plataforma gratuita de grabación y transmisión de vídeo, se llama Obs estudio!bueno la sigo remando con sus funciones pero sé que saldrá algo!\"\n",
    "\n",
    "tweets = [tweet1,tweet2,tweet3,tweet4]\n",
    "resultados = []\n",
    "\n",
    "for j in tweets:\n",
    "  resultados.append(feeling(j))\n",
    "  \n",
    "df = pd.DataFrame(resultados, columns=[\"Tweet\",\"Calidad\",\"P_positiva\",\"P_neutra\",\"P_negativa\"])\n",
    "df"
   ]
  }
 ],
 "metadata": {
  "kernelspec": {
   "display_name": ".venv",
   "language": "python",
   "name": "python3"
  },
  "language_info": {
   "codemirror_mode": {
    "name": "ipython",
    "version": 3
   },
   "file_extension": ".py",
   "mimetype": "text/x-python",
   "name": "python",
   "nbconvert_exporter": "python",
   "pygments_lexer": "ipython3",
   "version": "3.13.3"
  }
 },
 "nbformat": 4,
 "nbformat_minor": 5
}
